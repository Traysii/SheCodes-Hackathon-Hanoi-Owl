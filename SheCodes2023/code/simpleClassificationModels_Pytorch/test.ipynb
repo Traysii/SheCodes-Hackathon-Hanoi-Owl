{
 "cells": [
  {
   "cell_type": "code",
   "execution_count": 1,
   "metadata": {},
   "outputs": [
    {
     "ename": "ModuleNotFoundError",
     "evalue": "No module named 'torch'",
     "output_type": "error",
     "traceback": [
      "\u001b[0;31m---------------------------------------------------------------------------\u001b[0m",
      "\u001b[0;31mModuleNotFoundError\u001b[0m                       Traceback (most recent call last)",
      "\u001b[1;32m/Users/tuletuuyen2105/Documents/Zalo Received Files/SheCodes2023-20231001T020238Z-001/SheCodes2023/code/simpleClassificationModels_Pytorch/test.ipynb Cell 1\u001b[0m line \u001b[0;36m<cell line: 1>\u001b[0;34m()\u001b[0m\n\u001b[0;32m----> <a href='vscode-notebook-cell:/Users/tuletuuyen2105/Documents/Zalo%20Received%20Files/SheCodes2023-20231001T020238Z-001/SheCodes2023/code/simpleClassificationModels_Pytorch/test.ipynb#W0sZmlsZQ%3D%3D?line=0'>1</a>\u001b[0m \u001b[39mimport\u001b[39;00m \u001b[39mtorch\u001b[39;00m\n\u001b[1;32m      <a href='vscode-notebook-cell:/Users/tuletuuyen2105/Documents/Zalo%20Received%20Files/SheCodes2023-20231001T020238Z-001/SheCodes2023/code/simpleClassificationModels_Pytorch/test.ipynb#W0sZmlsZQ%3D%3D?line=1'>2</a>\u001b[0m \u001b[39mimport\u001b[39;00m \u001b[39mtorch\u001b[39;00m\u001b[39m.\u001b[39;00m\u001b[39mnn\u001b[39;00m \u001b[39mas\u001b[39;00m \u001b[39mnn\u001b[39;00m\n\u001b[1;32m      <a href='vscode-notebook-cell:/Users/tuletuuyen2105/Documents/Zalo%20Received%20Files/SheCodes2023-20231001T020238Z-001/SheCodes2023/code/simpleClassificationModels_Pytorch/test.ipynb#W0sZmlsZQ%3D%3D?line=2'>3</a>\u001b[0m \u001b[39mimport\u001b[39;00m \u001b[39mtorch\u001b[39;00m\u001b[39m.\u001b[39;00m\u001b[39moptim\u001b[39;00m \u001b[39mas\u001b[39;00m \u001b[39moptim\u001b[39;00m\n",
      "\u001b[0;31mModuleNotFoundError\u001b[0m: No module named 'torch'"
     ]
    }
   ],
   "source": [
    "import torch\n",
    "import torch.nn as nn\n",
    "import torch.optim as optim\n",
    "import torch.nn.functional as f\n",
    "from torch.utils.data import DataLoader\n",
    "import torchvision.datasets as datasets\n",
    "import  torchvision.transforms as transforms\n",
    "\n",
    "import torchvision\n",
    "from torch.utils.tensorboard import SummaryWriter\n",
    "\n",
    "\n",
    "device = torch.device('cuda' if torch.cuda.is_available() else 'cpu')\n",
    "\n",
    "\n",
    "in_channels = 1\n",
    "num_classes = 10\n",
    "learning_rate = 0.001\n",
    "batch_size = 64\n",
    "epochs = 5\n",
    "\n",
    "# Test MNIST\n",
    "train_dataset = datasets.MNIST(root='data/', train= True, transform= transforms.ToTensor(), download= True)\n",
    "train_loader = DataLoader(dataset=train_dataset, batch_size= batch_size, shuffle=True)\n",
    "test_dataset = datasets.MNIST(root='data/', train= False, transform= transforms.ToTensor(), download= True)\n",
    "test_loader = DataLoader(dataset=test_dataset, batch_size= batch_size, shuffle=True)\n"
   ]
  },
  {
   "cell_type": "code",
   "execution_count": 5,
   "metadata": {},
   "outputs": [
    {
     "data": {
      "text/plain": [
       "torch.Size([64, 1, 28, 28])"
      ]
     },
     "execution_count": 5,
     "metadata": {},
     "output_type": "execute_result"
    }
   ],
   "source": [
    "X, labels = next(iter(train_loader))\n",
    "X.shape"
   ]
  },
  {
   "cell_type": "code",
   "execution_count": 13,
   "metadata": {},
   "outputs": [
    {
     "name": "stdout",
     "output_type": "stream",
     "text": [
      "(51, 224, 224, 3)\n",
      "<class 'numpy.ndarray'>\n"
     ]
    }
   ],
   "source": [
    "from loaddata import load_data\n",
    "\n",
    "X_train, y_train = load_data(\"../../Data/data_train\")\n",
    "X_test, y_test = load_data(\"../../Data/data_test\")\n",
    "print(X_train.shape)\n",
    "print(type(X_train))"
   ]
  },
  {
   "cell_type": "code",
   "execution_count": 11,
   "metadata": {},
   "outputs": [
    {
     "ename": "TypeError",
     "evalue": "expected np.ndarray (got Tensor)",
     "output_type": "error",
     "traceback": [
      "\u001b[0;31m---------------------------------------------------------------------------\u001b[0m",
      "\u001b[0;31mTypeError\u001b[0m                                 Traceback (most recent call last)",
      "\u001b[1;32m/home/nyanmaruk/Downloads/SheCodes2023-20231001T020238Z-001/SheCodes2023/code/simpleClassificationModels_Pytorch/test.ipynb Cell 4\u001b[0m line \u001b[0;36m6\n\u001b[1;32m      <a href='vscode-notebook-cell:/home/nyanmaruk/Downloads/SheCodes2023-20231001T020238Z-001/SheCodes2023/code/simpleClassificationModels_Pytorch/test.ipynb#W3sZmlsZQ%3D%3D?line=2'>3</a>\u001b[0m     y \u001b[39m=\u001b[39m torch\u001b[39m.\u001b[39mfrom_numpy(y)\n\u001b[1;32m      <a href='vscode-notebook-cell:/home/nyanmaruk/Downloads/SheCodes2023-20231001T020238Z-001/SheCodes2023/code/simpleClassificationModels_Pytorch/test.ipynb#W3sZmlsZQ%3D%3D?line=3'>4</a>\u001b[0m     \u001b[39mreturn\u001b[39;00m X, y\n\u001b[0;32m----> <a href='vscode-notebook-cell:/home/nyanmaruk/Downloads/SheCodes2023-20231001T020238Z-001/SheCodes2023/code/simpleClassificationModels_Pytorch/test.ipynb#W3sZmlsZQ%3D%3D?line=5'>6</a>\u001b[0m X_train, y_train \u001b[39m=\u001b[39m numpy2tensor(X_train, y_train)\n\u001b[1;32m      <a href='vscode-notebook-cell:/home/nyanmaruk/Downloads/SheCodes2023-20231001T020238Z-001/SheCodes2023/code/simpleClassificationModels_Pytorch/test.ipynb#W3sZmlsZQ%3D%3D?line=6'>7</a>\u001b[0m X_test, y_test \u001b[39m=\u001b[39m numpy2tensor(X_test, y_test)\n\u001b[1;32m      <a href='vscode-notebook-cell:/home/nyanmaruk/Downloads/SheCodes2023-20231001T020238Z-001/SheCodes2023/code/simpleClassificationModels_Pytorch/test.ipynb#W3sZmlsZQ%3D%3D?line=7'>8</a>\u001b[0m \u001b[39mprint\u001b[39m(X_train)\n",
      "\u001b[1;32m/home/nyanmaruk/Downloads/SheCodes2023-20231001T020238Z-001/SheCodes2023/code/simpleClassificationModels_Pytorch/test.ipynb Cell 4\u001b[0m line \u001b[0;36m2\n\u001b[1;32m      <a href='vscode-notebook-cell:/home/nyanmaruk/Downloads/SheCodes2023-20231001T020238Z-001/SheCodes2023/code/simpleClassificationModels_Pytorch/test.ipynb#W3sZmlsZQ%3D%3D?line=0'>1</a>\u001b[0m \u001b[39mdef\u001b[39;00m \u001b[39mnumpy2tensor\u001b[39m(X, y):\n\u001b[0;32m----> <a href='vscode-notebook-cell:/home/nyanmaruk/Downloads/SheCodes2023-20231001T020238Z-001/SheCodes2023/code/simpleClassificationModels_Pytorch/test.ipynb#W3sZmlsZQ%3D%3D?line=1'>2</a>\u001b[0m     X \u001b[39m=\u001b[39m torch\u001b[39m.\u001b[39;49mfrom_numpy(X)\n\u001b[1;32m      <a href='vscode-notebook-cell:/home/nyanmaruk/Downloads/SheCodes2023-20231001T020238Z-001/SheCodes2023/code/simpleClassificationModels_Pytorch/test.ipynb#W3sZmlsZQ%3D%3D?line=2'>3</a>\u001b[0m     y \u001b[39m=\u001b[39m torch\u001b[39m.\u001b[39mfrom_numpy(y)\n\u001b[1;32m      <a href='vscode-notebook-cell:/home/nyanmaruk/Downloads/SheCodes2023-20231001T020238Z-001/SheCodes2023/code/simpleClassificationModels_Pytorch/test.ipynb#W3sZmlsZQ%3D%3D?line=3'>4</a>\u001b[0m     \u001b[39mreturn\u001b[39;00m X, y\n",
      "\u001b[0;31mTypeError\u001b[0m: expected np.ndarray (got Tensor)"
     ]
    }
   ],
   "source": [
    "def numpy2tensor(X, y):\n",
    "    X = torch.from_numpy(X)\n",
    "    y = torch.from_numpy(y)\n",
    "    return X, y\n",
    "\n",
    "X_train, y_train = numpy2tensor(X_train, y_train)\n",
    "X_test, y_test = numpy2tensor(X_test, y_test)\n",
    "print(X_train)"
   ]
  }
 ],
 "metadata": {
  "kernelspec": {
   "display_name": "base",
   "language": "python",
   "name": "python3"
  },
  "language_info": {
   "codemirror_mode": {
    "name": "ipython",
    "version": 3
   },
   "file_extension": ".py",
   "mimetype": "text/x-python",
   "name": "python",
   "nbconvert_exporter": "python",
   "pygments_lexer": "ipython3",
   "version": "3.8.9"
  },
  "orig_nbformat": 4
 },
 "nbformat": 4,
 "nbformat_minor": 2
}
